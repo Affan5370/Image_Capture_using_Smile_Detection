{
 "cells": [
  {
   "cell_type": "code",
   "execution_count": 1,
   "metadata": {
    "id": "FOUwwJq4VXMS"
   },
   "outputs": [
    {
     "name": "stdout",
     "output_type": "stream",
     "text": [
      "selfie_0.png written!\n",
      "selfie_1.png written!\n",
      "selfie_2.png written!\n",
      "selfie_3.png written!\n",
      "selfie_4.png written!\n",
      "selfie_5.png written!\n",
      "selfie_6.png written!\n",
      "selfie_7.png written!\n",
      "selfie_8.png written!\n",
      "selfie_9.png written!\n",
      "selfie_10.png written!\n",
      "selfie_11.png written!\n",
      "selfie_12.png written!\n",
      "selfie_13.png written!\n",
      "selfie_14.png written!\n",
      "selfie_15.png written!\n",
      "selfie_16.png written!\n",
      "selfie_17.png written!\n",
      "selfie_18.png written!\n",
      "selfie_19.png written!\n",
      "selfie_20.png written!\n",
      "selfie_21.png written!\n",
      "selfie_22.png written!\n",
      "selfie_23.png written!\n",
      "selfie_24.png written!\n",
      "selfie_25.png written!\n"
     ]
    }
   ],
   "source": [
    "import cv2\n",
    "face_cascade = cv2.CascadeClassifier('haarcascade_frontalface_default.xml')\n",
    "smile_cascade = cv2.CascadeClassifier('haarcascade_smile.xml')\n",
    "cap = cv2.VideoCapture(0)\n",
    "img_counter = 0\n",
    "\n",
    "while True:\n",
    "    _, img = cap.read()\n",
    "    if img is None:\n",
    "        print(\"Could not read image from webcam\")\n",
    "        continue\n",
    "    gray = cv2.cvtColor(img, cv2.COLOR_BGR2GRAY)\n",
    "    faces = face_cascade.detectMultiScale(gray, 1.3, 5)\n",
    "    for (x, y, w, h) in faces:\n",
    "        cv2.rectangle(img, (x, y), (x+w, y+h), (255, 0, 0), 2)\n",
    "        roi_gray = gray[y:y+h, x:x+w]\n",
    "        roi_color = img[y:y+h, x:x+w]\n",
    "        smiles = smile_cascade.detectMultiScale(roi_gray, 1.8, 20)\n",
    "\n",
    "        for (sx, sy, sw, sh) in smiles:\n",
    "            cv2.rectangle(roi_color, (sx, sy), ((sx + sw), (sy + sh)), (0, 0, 255), 2)\n",
    "            img_name = \"selfie_{}.png\".format(img_counter)\n",
    "            cv2.imwrite(img_name, img)\n",
    "            print(\"{} written!\".format(img_name))\n",
    "            img_counter += 1\n",
    "    cv2.imshow('img', img)\n",
    "    k = cv2.waitKey(30) & 0xff\n",
    "    if k==27:\n",
    "        break\n",
    "cap.release()\n"
   ]
  },
  {
   "cell_type": "code",
   "execution_count": null,
   "metadata": {},
   "outputs": [],
   "source": []
  }
 ],
 "metadata": {
  "colab": {
   "provenance": []
  },
  "kernelspec": {
   "display_name": "Python 3 (ipykernel)",
   "language": "python",
   "name": "python3"
  },
  "language_info": {
   "codemirror_mode": {
    "name": "ipython",
    "version": 3
   },
   "file_extension": ".py",
   "mimetype": "text/x-python",
   "name": "python",
   "nbconvert_exporter": "python",
   "pygments_lexer": "ipython3",
   "version": "3.11.5"
  }
 },
 "nbformat": 4,
 "nbformat_minor": 1
}
